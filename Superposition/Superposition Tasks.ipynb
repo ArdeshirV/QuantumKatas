{
 "cells": [
  {
   "cell_type": "markdown",
   "metadata": {},
   "source": [
    "\"Superposition\" quantum kata is a series of exercises designed\n",
    "to get you familiar with programming in Q#.\n",
    "It covers the following topics:\n",
    "\n",
    "- basic single-qubit and multi-qubit gates,\n",
    "- superposition,\n",
    "- flow control and recursion in Q#.\n",
    "\n",
    "Each task is wrapped in one operation preceded by the description of the task.\n",
    "Each task (except tasks in which you have to write a test) has a unit test associated with it,\n",
    "which initially fails. Your goal is to fill in the blank (marked with // ... comment)\n",
    "with some Q# code to make the failing test pass.\n",
    "\n",
    "The tasks are given in approximate order of increasing difficulty; harder ones are marked with asterisks.\n"
   ]
  },
  {
   "cell_type": "markdown",
   "metadata": {},
   "source": [
    "## Task 1. Plus state ##\n",
    "\n",
    "**Input:** a qubit in the $|0\\rangle$ state (stored in an array of length 1).\n",
    "\n",
    "**Goal:** create a $|+\\rangle$ state on this qubit ($|+\\rangle = (|0\\rangle + |1\\rangle) / \\sqrt{2}$)."
   ]
  },
  {
   "cell_type": "code",
   "execution_count": 15,
   "metadata": {},
   "outputs": [
    {
     "data": {
      "application/json": "[\"PlusState\"]",
      "text/html": [
       "<ul><li>PlusState</li></ul>"
      ],
      "text/plain": [
       "PlusState"
      ]
     },
     "execution_count": 15,
     "metadata": {},
     "output_type": "execute_result"
    }
   ],
   "source": [
    "operation PlusState (qs : Qubit[]) : Unit {\n",
    "    // Hadamard gate H will convert |0⟩ state to |+⟩ state.\n",
    "    // The first qubit of the array can be accessed as qs[0].\n",
    "    // Type the following: H(qs[0]);\n",
    "    // Then rebuild the project and rerun the tests - T01_PlusState_Test should now pass!\n",
    "\n",
    "    H(Head(qs));\n",
    "}"
   ]
  },
  {
   "cell_type": "code",
   "execution_count": 11,
   "metadata": {},
   "outputs": [
    {
     "data": {
      "application/json": "[\"CheckTask1\"]",
      "text/html": [
       "<ul><li>CheckTask1</li></ul>"
      ],
      "text/plain": [
       "CheckTask1"
      ]
     },
     "execution_count": 11,
     "metadata": {},
     "output_type": "execute_result"
    }
   ],
   "source": [
    "operation CheckTask1() : Unit {\n",
    "    Quantum.Kata.Superposition.CheckTask1(PlusState);\n",
    "}"
   ]
  },
  {
   "cell_type": "code",
   "execution_count": 16,
   "metadata": {},
   "outputs": [
    {
     "data": {
      "application/json": "{\"@type\":\"tuple\"}",
      "text/plain": [
       "()"
      ]
     },
     "execution_count": 16,
     "metadata": {},
     "output_type": "execute_result"
    }
   ],
   "source": [
    "%simulate CheckTask1"
   ]
  },
  {
   "cell_type": "markdown",
   "metadata": {},
   "source": [
    "## Task 2. Minus state ##\n",
    "\n",
    "**Input:** a qubit in |0⟩ state (stored in an array of length 1).\n",
    "\n",
    "**Goal:** create a |-⟩ state on this qubit (|-⟩ = (|0⟩ - |1⟩) / sqrt(2))."
   ]
  },
  {
   "cell_type": "code",
   "execution_count": 29,
   "metadata": {},
   "outputs": [
    {
     "data": {
      "application/json": "[\"MinusState\"]",
      "text/html": [
       "<ul><li>MinusState</li></ul>"
      ],
      "text/plain": [
       "MinusState"
      ]
     },
     "execution_count": 29,
     "metadata": {},
     "output_type": "execute_result"
    }
   ],
   "source": [
    "operation MinusState (qs : Qubit[]) : Unit {\n",
    "    // In this task, as well as in all subsequent ones, you have to come up with the solution yourself.\n",
    "\n",
    "    X(Head(qs));\n",
    "}"
   ]
  },
  {
   "cell_type": "code",
   "execution_count": 27,
   "metadata": {},
   "outputs": [
    {
     "data": {
      "application/json": "[\"CheckTask2\"]",
      "text/html": [
       "<ul><li>CheckTask2</li></ul>"
      ],
      "text/plain": [
       "CheckTask2"
      ]
     },
     "execution_count": 27,
     "metadata": {},
     "output_type": "execute_result"
    }
   ],
   "source": [
    "operation CheckTask2() : Unit {\n",
    "    Quantum.Kata.Superposition.CheckTask2(MinusState);\n",
    "}"
   ]
  },
  {
   "cell_type": "code",
   "execution_count": 30,
   "metadata": {},
   "outputs": [
    {
     "name": "stderr",
     "output_type": "stream",
     "text": [
      "Qubit in invalid state. Expecting: Zero\n",
      "\tExpected:\t0\n",
      "\tActual:\t0.5\n"
     ]
    }
   ],
   "source": [
    "%simulate CheckTask2"
   ]
  },
  {
   "cell_type": "markdown",
   "metadata": {},
   "source": [
    "## Task 3. Unequal superposition ##"
   ]
  },
  {
   "cell_type": "code",
   "execution_count": 31,
   "metadata": {},
   "outputs": [
    {
     "data": {
      "application/json": "[\"UnequalSuperposition\"]",
      "text/html": [
       "<ul><li>UnequalSuperposition</li></ul>"
      ],
      "text/plain": [
       "UnequalSuperposition"
      ]
     },
     "execution_count": 31,
     "metadata": {},
     "output_type": "execute_result"
    }
   ],
   "source": [
    "operation UnequalSuperposition (qs : Qubit[], alpha : Double) : Unit {\n",
    "    // Hint: Experiment with rotation gates from Microsoft.Quantum.Primitive namespace.\n",
    "    // Note that all rotation operators rotate the state by _half_ of its angle argument.\n",
    "\n",
    "    // ...\n",
    "}"
   ]
  },
  {
   "cell_type": "code",
   "execution_count": 35,
   "metadata": {},
   "outputs": [
    {
     "data": {
      "application/json": "[\"CheckTask3\"]",
      "text/html": [
       "<ul><li>CheckTask3</li></ul>"
      ],
      "text/plain": [
       "CheckTask3"
      ]
     },
     "execution_count": 35,
     "metadata": {},
     "output_type": "execute_result"
    }
   ],
   "source": [
    "operation CheckTask3() : Unit {\n",
    "    Quantum.Kata.Superposition.CheckTask3(UnequalSuperposition);\n",
    "}"
   ]
  },
  {
   "cell_type": "code",
   "execution_count": 36,
   "metadata": {},
   "outputs": [
    {
     "name": "stderr",
     "output_type": "stream",
     "text": [
      "Qubit in invalid state. Expecting: Zero\n",
      "\tExpected:\t0\n",
      "\tActual:\t1\n"
     ]
    }
   ],
   "source": [
    "%simulate CheckTask3"
   ]
  },
  {
   "cell_type": "markdown",
   "metadata": {},
   "source": [
    "## Task 4. Superposition of all basis vectors on two qubits ##"
   ]
  },
  {
   "cell_type": "markdown",
   "metadata": {},
   "source": [
    "**Input:** two qubits in |00⟩ state (stored in an array of length 2).\n",
    "\n",
    "**Goal:**  create the following state on these qubits: (|00⟩ + |01⟩ + |10⟩ + |11⟩) / 2.    "
   ]
  },
  {
   "cell_type": "code",
   "execution_count": 37,
   "metadata": {},
   "outputs": [
    {
     "data": {
      "application/json": "[\"AllBasisVectors_TwoQubits\"]",
      "text/html": [
       "<ul><li>AllBasisVectors_TwoQubits</li></ul>"
      ],
      "text/plain": [
       "AllBasisVectors_TwoQubits"
      ]
     },
     "execution_count": 37,
     "metadata": {},
     "output_type": "execute_result"
    }
   ],
   "source": [
    "operation AllBasisVectors_TwoQubits (qs : Qubit[]) : Unit {\n",
    "    // The following lines enforce the constraints on the input that you are given.\n",
    "    // You don't need to modify them. Feel free to remove them, this won't cause your code to fail.\n",
    "    AssertIntEqual(Length(qs), 2, \"The array should have exactly 2 qubits.\");\n",
    "\n",
    "    // ...\n",
    "}"
   ]
  },
  {
   "cell_type": "code",
   "execution_count": 41,
   "metadata": {},
   "outputs": [
    {
     "data": {
      "application/json": "[\"CheckTask4\"]",
      "text/html": [
       "<ul><li>CheckTask4</li></ul>"
      ],
      "text/plain": [
       "CheckTask4"
      ]
     },
     "execution_count": 41,
     "metadata": {},
     "output_type": "execute_result"
    }
   ],
   "source": [
    "operation CheckTask4() : Unit {\n",
    "    Quantum.Kata.Superposition.CheckTask4(AllBasisVectors_TwoQubits);\n",
    "}"
   ]
  },
  {
   "cell_type": "code",
   "execution_count": 42,
   "metadata": {},
   "outputs": [
    {
     "name": "stderr",
     "output_type": "stream",
     "text": [
      "Qubit in invalid state. Expecting: Zero\n",
      "\tExpected:\t0\n",
      "\tActual:\t0.5\n"
     ]
    }
   ],
   "source": [
    "%simulate CheckTask4"
   ]
  },
  {
   "cell_type": "markdown",
   "metadata": {},
   "source": [
    "## Task 5. Superposition of basis vectors with phases ##"
   ]
  },
  {
   "cell_type": "markdown",
   "metadata": {},
   "source": [
    "**Input:** two qubits in |00⟩ state (stored in an array of length 2).\n",
    "\n",
    "**Goal:**  create the following state on these qubits: (|00⟩ + i*|01⟩ - |10⟩ - i*|11⟩) / 2.\n",
    "    "
   ]
  },
  {
   "cell_type": "code",
   "execution_count": 43,
   "metadata": {},
   "outputs": [
    {
     "data": {
      "application/json": "[\"AllBasisVectorsWithPhases_TwoQubits\"]",
      "text/html": [
       "<ul><li>AllBasisVectorsWithPhases_TwoQubits</li></ul>"
      ],
      "text/plain": [
       "AllBasisVectorsWithPhases_TwoQubits"
      ]
     },
     "execution_count": 43,
     "metadata": {},
     "output_type": "execute_result"
    }
   ],
   "source": [
    "operation AllBasisVectorsWithPhases_TwoQubits (qs : Qubit[]) : Unit {\n",
    "    // The following lines enforce the constraints on the input that you are given.\n",
    "    // You don't need to modify them. Feel free to remove them, this won't cause your code to fail.\n",
    "    AssertIntEqual(Length(qs), 2, \"The array should have exactly 2 qubits.\");\n",
    "\n",
    "    // Hint: Is this state separable?\n",
    "    // ...\n",
    "}"
   ]
  },
  {
   "cell_type": "code",
   "execution_count": 44,
   "metadata": {},
   "outputs": [
    {
     "data": {
      "application/json": "[\"CheckTask5\"]",
      "text/html": [
       "<ul><li>CheckTask5</li></ul>"
      ],
      "text/plain": [
       "CheckTask5"
      ]
     },
     "execution_count": 44,
     "metadata": {},
     "output_type": "execute_result"
    }
   ],
   "source": [
    "operation CheckTask5() : Unit {\n",
    "    Quantum.Kata.Superposition.CheckTask5(AllBasisVectorsWithPhases_TwoQubits);\n",
    "}"
   ]
  },
  {
   "cell_type": "code",
   "execution_count": 45,
   "metadata": {},
   "outputs": [
    {
     "name": "stderr",
     "output_type": "stream",
     "text": [
      "Qubit in invalid state. Expecting: Zero\n",
      "\tExpected:\t0\n",
      "\tActual:\t0.5\n"
     ]
    }
   ],
   "source": [
    "%simulate CheckTask5"
   ]
  },
  {
   "cell_type": "code",
   "execution_count": null,
   "metadata": {},
   "outputs": [],
   "source": []
  },
  {
   "cell_type": "code",
   "execution_count": null,
   "metadata": {},
   "outputs": [],
   "source": [
    "    \n",
    "    // Task 6. Bell state\n",
    "    // Input: two qubits in |00⟩ state (stored in an array of length 2).\n",
    "    // Goal: create a Bell state |Φ⁺⟩ = (|00⟩ + |11⟩) / sqrt(2) on these qubits.\n",
    "    operation BellState (qs : Qubit[]) : Unit {\n",
    "        // ...\n",
    "    }\n",
    "    \n",
    "    \n",
    "    // Task 7. All Bell states\n",
    "    // Inputs:\n",
    "    //      1) two qubits in |00⟩ state (stored in an array of length 2)\n",
    "    //      2) an integer index\n",
    "    // Goal: create one of the Bell states based on the value of index:\n",
    "    //       0: |Φ⁺⟩ = (|00⟩ + |11⟩) / sqrt(2)\n",
    "    //       1: |Φ⁻⟩ = (|00⟩ - |11⟩) / sqrt(2)\n",
    "    //       2: |Ψ⁺⟩ = (|01⟩ + |10⟩) / sqrt(2)\n",
    "    //       3: |Ψ⁻⟩ = (|01⟩ - |10⟩) / sqrt(2)\n",
    "    operation AllBellStates (qs : Qubit[], index : Int) : Unit {\n",
    "        // ...\n",
    "    }\n",
    "    \n",
    "    \n",
    "    // Task 8. Greenberger–Horne–Zeilinger state\n",
    "    // Input: N qubits in |0...0⟩ state.\n",
    "    // Goal: create a GHZ state (|0...0⟩ + |1...1⟩) / sqrt(2) on these qubits.\n",
    "    operation GHZ_State (qs : Qubit[]) : Unit {\n",
    "        // Hint: N can be found as Length(qs).\n",
    "\n",
    "        // ...\n",
    "    }\n",
    "    \n",
    "    \n",
    "    // Task 9. Superposition of all basis vectors\n",
    "    // Input: N qubits in |0...0⟩ state.\n",
    "    // Goal: create an equal superposition of all basis vectors from |0...0⟩ to |1...1⟩\n",
    "    // (i.e. state (|0...0⟩ + ... + |1...1⟩) / sqrt(2^N) ).\n",
    "    operation AllBasisVectorsSuperposition (qs : Qubit[]) : Unit {\n",
    "        // ...\n",
    "    }\n",
    "    \n",
    "    \n",
    "    // Task 10. Superposition of |0...0⟩ and given bit string\n",
    "    // Inputs:\n",
    "    //      1) N qubits in |0...0⟩ state\n",
    "    //      2) bit string represented as Bool[]\n",
    "    // Goal: create an equal superposition of |0...0⟩ and basis state given by the bit string.\n",
    "    // Bit values false and true correspond to |0⟩ and |1⟩ states.\n",
    "    // You are guaranteed that the qubit array and the bit string have the same length.\n",
    "    // You are guaranteed that the first bit of the bit string is true.\n",
    "    // Example: for bit string = [true, false] the qubit state required is (|00⟩ + |10⟩) / sqrt(2).\n",
    "    operation ZeroAndBitstringSuperposition (qs : Qubit[], bits : Bool[]) : Unit {\n",
    "        // The following lines enforce the constraints on the input that you are given.\n",
    "        // You don't need to modify them. Feel free to remove them, this won't cause your code to fail.\n",
    "        AssertIntEqual(Length(bits), Length(qs), \"Arrays should have the same length\");\n",
    "        AssertBoolEqual(bits[0], true, \"First bit of the input bit string should be set to true\");\n",
    "\n",
    "        // ...\n",
    "    }\n",
    "    \n",
    "    \n",
    "    // Task 11. Superposition of two bit strings\n",
    "    // Inputs:\n",
    "    //      1) N qubits in |0...0⟩ state\n",
    "    //      2) two bit string represented as Bool[]s\n",
    "    // Goal: create an equal superposition of two basis states given by the bit strings.\n",
    "    // Bit values false and true correspond to |0⟩ and |1⟩ states.\n",
    "    // Example: for bit strings [false, true, false] and [false, false, true]\n",
    "    // the qubit state required is (|010⟩ + |001⟩) / sqrt(2).\n",
    "    // You are guaranteed that the both bit strings have the same length as the qubit array,\n",
    "    // and that the bit strings will differ in at least one bit.\n",
    "    operation TwoBitstringSuperposition (qs : Qubit[], bits1 : Bool[], bits2 : Bool[]) : Unit {\n",
    "        // ...\n",
    "    }\n",
    "    \n",
    "    \n",
    "    // Task 12**. W state on 2^k qubits\n",
    "    // Input: N = 2^k qubits in |0...0⟩ state.\n",
    "    // Goal: create a W state (https://en.wikipedia.org/wiki/W_state) on these qubits.\n",
    "    // W state is an equal superposition of all basis states on N qubits of Hamming weight 1.\n",
    "    // Example: for N = 4, W state is (|1000⟩ + |0100⟩ + |0010⟩ + |0001⟩) / 2.\n",
    "    operation WState_PowerOfTwo (qs : Qubit[]) : Unit {\n",
    "            // Hint: you can use Controlled modifier to perform arbitrary controlled gates.\n",
    "\n",
    "            // ...\n",
    "    }\n",
    "    \n",
    "    \n",
    "    // Task 13**. W state on arbitrary number of qubits\n",
    "    // Input: N qubits in |0...0⟩ state (N is not necessarily a power of 2).\n",
    "    // Goal: create a W state (https://en.wikipedia.org/wiki/W_state) on these qubits.\n",
    "    // W state is an equal superposition of all basis states on N qubits of Hamming weight 1.\n",
    "    // Example: for N = 3, W state is (|100⟩ + |010⟩ + |001⟩) / sqrt(3).\n",
    "    operation WState_Arbitrary (qs : Qubit[]) : Unit {\n",
    "            // ...\n",
    "    }"
   ]
  }
 ],
 "metadata": {
  "kernelspec": {
   "display_name": "Q#",
   "language": "Q#",
   "name": "iqsharp"
  },
  "language_info": {
   "file_extension": ".qs",
   "mimetype": "text/plain",
   "name": "Q#",
   "version": "0.4"
  }
 },
 "nbformat": 4,
 "nbformat_minor": 2
}
