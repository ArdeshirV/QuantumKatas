{
 "cells": [
  {
   "cell_type": "markdown",
   "metadata": {},
   "source": [
    "# Deutsch-Jozsa algorithm\n",
    "\n",
    "**Deutsch-Jozsa algorithm** quantum kata is a series of exercises designed\n",
    "to get you familiar with programming in Q#.\n",
    "\n",
    "It covers the following topics:\n",
    "* writing oracles (quantum operations which implement certain classical functions),\n",
    "* Bernstein-Vazirani algorithm for recovering the parameters of a scalar product function,\n",
    "* Deutsch-Jozsa algorithm for recognizing a function as constant or balanced, and\n",
    "* writing tests in Q#.\n",
    "\n",
    "\n",
    "Each task is wrapped in one operation preceded by the description of the task.\n",
    "Each task (except tasks in which you have to write a test) initially fails. \n",
    "Your goal is to fill in the blank (marked with // ... comment)\n",
    "with some Q# code to make the failing test pass. To try your answer run the cell with Ctrl/⌘+Enter.\n",
    "\n"
   ]
  },
  {
   "cell_type": "markdown",
   "metadata": {},
   "source": [
    "To begin, first prepare this notebook for Katas execution:"
   ]
  },
  {
   "cell_type": "code",
   "execution_count": null,
   "metadata": {},
   "outputs": [],
   "source": [
    "%package Microsoft.Quantum.Katas.DeutschJozsaAlgorithm"
   ]
  },
  {
   "cell_type": "markdown",
   "metadata": {},
   "source": [
    "## Part I. Oracles\n",
    "\n",
    "In this section you will implement oracles defined by classical functions using the following rules:\n",
    " - a function f(x₀, ..., xₙ₋₁) with N bits of input x = (x₀, ..., xₙ₋₁) and 1 bit of output y\n",
    "   defines an oracle which acts on N input qubits and 1 output qubit.\n",
    " - the oracle effect on qubits in computational basis states is defined as follows:\n",
    "   |x⟩ |y⟩ -> |x⟩ |y ⊕ f(x)⟩   (⊕ is addition modulo 2)\n",
    " - the oracle effect on qubits in superposition is defined following the linearity of quantum operations.\n",
    " - the oracle must act properly on qubits in all possible input states.\n",
    "\n",
    "\n",
    "### Task 1.1. f(x) = 0\n",
    "\n",
    "**Inputs:** \n",
    "1. N qubits in arbitrary state |x⟩ (input register)\n",
    "2. a qubit in arbitrary state |y⟩ (output qubit)\n",
    "\n",
    "\n",
    "**Goal:**  transform state |x, y⟩ into state |x, y ⊕ f(x)⟩ (⊕ is addition modulo 2).\n",
    "\n",
    "**Example:**\n",
    "\n",
    "If the qubit is in state |0⟩, change its state to |1⟩.\n",
    "\n",
    "If the qubit is in state |1⟩, change its state to |0⟩.\n",
    "\n",
    "> Note that this operation is self-adjoint: applying it for a second time\n",
    "> returns the qubit to the original state.\n"
   ]
  },
  {
   "cell_type": "code",
   "execution_count": null,
   "metadata": {},
   "outputs": [],
   "source": [
    "%kata T11_Oracle_Zero_Test \n",
    "\n",
    "operation Oracle_Zero (x : Qubit[], y : Qubit) : Unit {\n",
    "    // Since f(x) = 0 for all values of x, |y ⊕ f(x)⟩ = |y⟩.\n",
    "    // This means that the operation doesn't need to do any transformation to the inputs.\n",
    "    \n",
    "    // Run the cell (using Ctrl/⌘ + Enter) to see that T01_Oracle_Zero_Test kata passes.\n",
    "}"
   ]
  },
  {
   "cell_type": "markdown",
   "metadata": {},
   "source": [
    "### Task 1.2. f(x) = 1\n",
    "\n",
    "**Inputs:**\n",
    "1. N qubits in arbitrary state |x⟩ (input register)\n",
    "2. a qubit in arbitrary state |y⟩ (output qubit)\n",
    "\n",
    "\n",
    "**Goal**:  transform state |x, y⟩ into state |x, y ⊕ f(x)⟩ (⊕ is addition modulo 2).\n"
   ]
  },
  {
   "cell_type": "code",
   "execution_count": null,
   "metadata": {},
   "outputs": [],
   "source": [
    "%kata T12_Oracle_One_Test \n",
    "\n",
    "operation Oracle_One (x : Qubit[], y : Qubit) : Unit {\n",
    "    // Since f(x) = 1 for all values of x, |y ⊕ f(x)⟩ = |y ⊕ 1⟩ = |NOT y⟩.\n",
    "    // This means that the operation needs to flip qubit y (i.e. transform |0⟩ to |1⟩ and vice versa).\n",
    "    \n",
    "    // ...\n",
    "}"
   ]
  },
  {
   "cell_type": "markdown",
   "metadata": {},
   "source": [
    "### Task 1.3. f(x) = xₖ (the value of k-th qubit)\n",
    "\n",
    "**Inputs:**\n",
    "1) N qubits in arbitrary state |x⟩ (input register)\n",
    "2) a qubit in arbitrary state |y⟩ (output qubit)\n",
    "3) 0-based index of the qubit from input register (0 <= k < N)\n",
    "\n",
    "**Goal** : transform state |x, y⟩ into state |x, y ⊕ xₖ⟩ (⊕ is addition modulo 2).\n"
   ]
  },
  {
   "cell_type": "code",
   "execution_count": null,
   "metadata": {},
   "outputs": [],
   "source": [
    "%kata T13_Oracle_Kth_Qubit_Test \n",
    "\n",
    "operation Oracle_Kth_Qubit (x : Qubit[], y : Qubit, k : Int) : Unit {\n",
    "    // The following line enforces the constraints on the value of k that you are given.\n",
    "    // You don't need to modify it. Feel free to remove it, this won't cause your code to fail.\n",
    "    AssertBoolEqual(0 <= k && k < Length(x), true, \"k should be between 0 and N-1, inclusive\");\n",
    "\n",
    "    // ...\n",
    "}"
   ]
  },
  {
   "cell_type": "markdown",
   "metadata": {},
   "source": [
    "### Task 1.4. f(x) = 1 if x has odd number of 1s, and 0 otherwise\n",
    "\n",
    "**Inputs:**\n",
    "1) N qubits in arbitrary state |x⟩ (input register)\n",
    "2) a qubit in arbitrary state |y⟩ (output qubit)\n",
    "\n",
    "**Goal:** transform state |x, y⟩ into state |x, y ⊕ f(x)⟩ (⊕ is addition modulo 2).\n"
   ]
  },
  {
   "cell_type": "code",
   "execution_count": null,
   "metadata": {},
   "outputs": [],
   "source": [
    "%kata T14_Oracle_OddNumberOfOnes_Test\n",
    "\n",
    "operation Oracle_OddNumberOfOnes (x : Qubit[], y : Qubit) : Unit {\n",
    "    // Hint: f(x) can be represented as x_0 ⊕ x_1 ⊕ ... ⊕ x_(N-1)\n",
    "    \n",
    "    // ...\n",
    "}"
   ]
  },
  {
   "cell_type": "markdown",
   "metadata": {},
   "source": [
    "### Task 1.5. f(x) = Σᵢ rᵢ xᵢ modulo 2 for a given bit vector r (scalar product function)\n",
    "\n",
    "**Inputs:**\n",
    "1) N qubits in arbitrary state |x⟩ (input register)\n",
    "2) a qubit in arbitrary state |y⟩ (output qubit)\n",
    "3) a bit vector of length N represented as Int[]\n",
    "\n",
    "You are guaranteed that the qubit array and the bit vector have the same length.\n",
    "\n",
    "**Goal:** transform state |x, y⟩ into state |x, y ⊕ f(x)⟩ (⊕ is addition modulo 2).\n"
   ]
  },
  {
   "cell_type": "code",
   "execution_count": null,
   "metadata": {},
   "outputs": [],
   "source": [
    "%kata T15_Oracle_ProductFunction_Test\n",
    "\n",
    "operation Oracle_ProductFunction (x : Qubit[], y : Qubit, r : Int[]) : Unit {\n",
    "    // The following line enforces the constraint on the input arrays.\n",
    "    // You don't need to modify it. Feel free to remove it, this won't cause your code to fail.\n",
    "    AssertIntEqual(Length(x), Length(r), \"Arrays should have the same length\");\n",
    "\n",
    "    // ...\n",
    "}"
   ]
  },
  {
   "cell_type": "code",
   "execution_count": null,
   "metadata": {},
   "outputs": [],
   "source": []
  }
 ],
 "metadata": {
  "kernelspec": {
   "display_name": "iqsharp",
   "language": "qsharp",
   "name": "iqsharp"
  },
  "language_info": {
   "file_extension": ".qs",
   "mimetype": "text/x-qsharp",
   "name": "qsharp",
   "version": "0.4"
  }
 },
 "nbformat": 4,
 "nbformat_minor": 2
}
