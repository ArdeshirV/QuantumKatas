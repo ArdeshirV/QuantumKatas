{
 "cells": [
  {
   "cell_type": "markdown",
   "metadata": {},
   "source": [
    "# Basic Gates Kata\n",
    "\n",
    "**Basic Gates** quantum kata is a series of exercises designed\n",
    "to get you familiar with the basic quantum gates in Q#.\n",
    "It covers the following topics:\n",
    "* basic single-qubit and multi-qubit gates,\n",
    "* adjoint and controlled gates,\n",
    "* using gates to modify the state of a qubit.\n",
    "\n",
    "Each task is wrapped in one operation preceded by the description of the task.\n",
    "Each task (except tasks in which you have to write a test) initially fails. Your goal is to fill in the blank (marked with // ... comment)\n",
    "with some Q# code to make the failing test pass. To try your answer run the cell with Ctrl/⌘+Enter.\n",
    "\n",
    "Most tasks can be done using exactly one gate.\n",
    "None of the tasks require measurement, and the tests are written so as to fail if qubit state is measured.\n",
    "\n",
    "The tasks are given in approximate order of increasing difficulty; harder ones are marked with asterisks.\n"
   ]
  },
  {
   "cell_type": "markdown",
   "metadata": {},
   "source": [
    "To begin, first prepare this notebook for BasicGates Katas execution:"
   ]
  },
  {
   "cell_type": "code",
   "execution_count": null,
   "metadata": {},
   "outputs": [],
   "source": [
    "%package Microsoft.Quantum.Katas"
   ]
  },
  {
   "cell_type": "markdown",
   "metadata": {},
   "source": [
    "## Part I. Single-Qubit Gates\n",
    "\n",
    "### Task 1.1. State flip: |0⟩ to |1⟩ and vice versa\n",
    "\n",
    "**Input:** A qubit in state |ψ⟩ = α |0⟩ + β |1⟩.\n",
    "\n",
    "**Goal:**  Change the state of the qubit to α |1⟩ + β |0⟩.\n",
    "\n",
    "**Example:**\n",
    "\n",
    "If the qubit is in state |0⟩, change its state to |1⟩.\n",
    "\n",
    "If the qubit is in state |1⟩, change its state to |0⟩.\n",
    "\n",
    "> Note that this operation is self-adjoint: applying it for a second time\n",
    "> returns the qubit to the original state.\n"
   ]
  },
  {
   "cell_type": "code",
   "execution_count": null,
   "metadata": {},
   "outputs": [],
   "source": [
    "%kata T11_StateFlip_Test \n",
    "\n",
    "operation StateFlip (q : Qubit) : Unit {\n",
    "\n",
    "    body (...) {\n",
    "        // The Pauli X gate will change the |0⟩ state to the |1⟩ state and vice versa.\n",
    "        // Type X(q);\n",
    "        // Then run the cell using Ctrl/⌘+Enter.\n",
    "\n",
    "        // ...\n",
    "        X(q);\n",
    "    }\n",
    "\n",
    "    adjoint self;\n",
    "}"
   ]
  },
  {
   "cell_type": "markdown",
   "metadata": {},
   "source": [
    "### Task 1.2. Basis change: |0⟩ to |+⟩ and |1⟩ to |-⟩ (and vice versa)\n",
    "\n",
    "**Input**: A qubit in state |ψ⟩ = α |0⟩ + β |1⟩.\n",
    "\n",
    "**Goal**:  Change the state of the qubit as follows:\n",
    "* If the qubit is in state |0⟩, change its state to |+⟩ = (|0⟩ + |1⟩) / sqrt(2).\n",
    "* If the qubit is in state |1⟩, change its state to |-⟩ = (|0⟩ - |1⟩) / sqrt(2).\n",
    "* If the qubit is in superposition, change its state according to the effect on basis vectors.\n",
    "\n",
    "> Note:  \n",
    "> |+⟩ and |-⟩ form a different basis for single-qubit states, called X basis.  \n",
    "> |0⟩ and |1⟩ are called Z basis.\n"
   ]
  },
  {
   "cell_type": "code",
   "execution_count": null,
   "metadata": {},
   "outputs": [],
   "source": [
    "%kata T12_BasisChange_Test \n",
    "\n",
    "operation BasisChange (q : Qubit) : Unit {\n",
    "        \n",
    "    body (...) {\n",
    "        // ...\n",
    "        H(q);\n",
    "    }\n",
    "\n",
    "    adjoint self;\n",
    "}"
   ]
  },
  {
   "cell_type": "markdown",
   "metadata": {},
   "source": [
    "### Task 1.3. Sign flip: |+⟩ to |-⟩ and vice versa.\n",
    "\n",
    "**Input**: A qubit in state |ψ⟩ = α |0⟩ + β |1⟩.\n",
    "\n",
    "**Goal** :  Change the qubit state to α |0⟩ - β |1⟩ (flip the sign of |1⟩ component of the superposition).\n"
   ]
  },
  {
   "cell_type": "code",
   "execution_count": null,
   "metadata": {},
   "outputs": [],
   "source": [
    "%kata T13_SignFlip_Test \n",
    "\n",
    "operation SignFlip (q : Qubit) : Unit {\n",
    "\n",
    "    body (...) {\n",
    "        // ...\n",
    "        Z(q);\n",
    "    }\n",
    "\n",
    "    adjoint self;\n",
    "}"
   ]
  },
  {
   "cell_type": "code",
   "execution_count": null,
   "metadata": {},
   "outputs": [],
   "source": [
    "%version"
   ]
  },
  {
   "cell_type": "code",
   "execution_count": null,
   "metadata": {},
   "outputs": [],
   "source": []
  }
 ],
 "metadata": {
  "kernelspec": {
   "display_name": "Q#",
   "language": "qsharp",
   "name": "iqsharp"
  },
  "language_info": {
   "file_extension": ".qs",
   "mimetype": "text/x-qsharp",
   "name": "qsharp",
   "version": "0.4"
  }
 },
 "nbformat": 4,
 "nbformat_minor": 2
}
