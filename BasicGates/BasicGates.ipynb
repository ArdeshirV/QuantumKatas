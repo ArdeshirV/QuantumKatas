{
 "cells": [
  {
   "cell_type": "markdown",
   "metadata": {},
   "source": [
    "# Basic Gates Kata\n",
    "\n",
    "**Basic Gates** quantum kata is a series of exercises designed\n",
    "to get you familiar with the basic quantum gates in Q#.\n",
    "It covers the following topics:\n",
    "* basic single-qubit and multi-qubit gates,\n",
    "* adjoint and controlled gates,\n",
    "* using gates to modify the state of a qubit.\n",
    "\n",
    "Each task is wrapped in one operation preceded by the description of the task.\n",
    "Each task (except tasks in which you have to write a test) initially fails. Your goal is to fill in the blank (marked with // ... comment)\n",
    "with some Q# code to make the failing test pass. To try your answer run the cell with Ctrl/⌘+Enter.\n",
    "\n",
    "Most tasks can be done using exactly one gate.\n",
    "None of the tasks require measurement, and the tests are written so as to fail if qubit state is measured.\n",
    "\n",
    "The tasks are given in approximate order of increasing difficulty; harder ones are marked with asterisks.\n"
   ]
  },
  {
   "cell_type": "markdown",
   "metadata": {},
   "source": [
    "To begin, first prepare this notebook for BasicGates Katas execution:"
   ]
  },
  {
   "cell_type": "code",
   "execution_count": null,
   "metadata": {},
   "outputs": [],
   "source": [
    "%package Microsoft.Quantum.Katas"
   ]
  },
  {
   "cell_type": "markdown",
   "metadata": {},
   "source": [
    "## Part I. Single-Qubit Gates\n",
    "\n",
    "### Task 1.1. State flip: |0⟩ to |1⟩ and vice versa\n",
    "\n",
    "**Input:** A qubit in state |ψ⟩ = α |0⟩ + β |1⟩.\n",
    "\n",
    "**Goal:**  Change the state of the qubit to α |1⟩ + β |0⟩.\n",
    "\n",
    "**Example:**\n",
    "\n",
    "If the qubit is in state |0⟩, change its state to |1⟩.\n",
    "\n",
    "If the qubit is in state |1⟩, change its state to |0⟩.\n",
    "\n",
    "> Note that this operation is self-adjoint: applying it for a second time\n",
    "> returns the qubit to the original state.\n"
   ]
  },
  {
   "cell_type": "code",
   "execution_count": null,
   "metadata": {},
   "outputs": [],
   "source": [
    "%kata T11_StateFlip_Test \n",
    "\n",
    "operation StateFlip (q : Qubit) : Unit {\n",
    "\n",
    "    body (...) {\n",
    "        // The Pauli X gate will change the |0⟩ state to the |1⟩ state and vice versa.\n",
    "        // Type X(q);\n",
    "        // Then run the cell using Ctrl/⌘+Enter.\n",
    "\n",
    "        // ...\n",
    "        X(q);\n",
    "    }\n",
    "\n",
    "    adjoint self;\n",
    "}"
   ]
  },
  {
   "cell_type": "markdown",
   "metadata": {},
   "source": [
    "### Task 1.2. Basis change: |0⟩ to |+⟩ and |1⟩ to |-⟩ (and vice versa)\n",
    "\n",
    "**Input**: A qubit in state |ψ⟩ = α |0⟩ + β |1⟩.\n",
    "\n",
    "**Goal**:  Change the state of the qubit as follows:\n",
    "* If the qubit is in state |0⟩, change its state to |+⟩ = (|0⟩ + |1⟩) / sqrt(2).\n",
    "* If the qubit is in state |1⟩, change its state to |-⟩ = (|0⟩ - |1⟩) / sqrt(2).\n",
    "* If the qubit is in superposition, change its state according to the effect on basis vectors.\n",
    "\n",
    "> Note:  \n",
    "> |+⟩ and |-⟩ form a different basis for single-qubit states, called X basis.  \n",
    "> |0⟩ and |1⟩ are called Z basis.\n"
   ]
  },
  {
   "cell_type": "code",
   "execution_count": null,
   "metadata": {},
   "outputs": [],
   "source": [
    "%kata T12_BasisChange_Test \n",
    "\n",
    "operation BasisChange (q : Qubit) : Unit {\n",
    "        \n",
    "    body (...) {\n",
    "        // ...\n",
    "        H(q);\n",
    "    }\n",
    "\n",
    "    adjoint self;\n",
    "}"
   ]
  },
  {
   "cell_type": "markdown",
   "metadata": {},
   "source": [
    "### Task 1.3. Sign flip: |+⟩ to |-⟩ and vice versa.\n",
    "\n",
    "**Input**: A qubit in state |ψ⟩ = α |0⟩ + β |1⟩.\n",
    "\n",
    "**Goal** :  Change the qubit state to α |0⟩ - β |1⟩ (flip the sign of |1⟩ component of the superposition).\n"
   ]
  },
  {
   "cell_type": "code",
   "execution_count": null,
   "metadata": {},
   "outputs": [],
   "source": [
    "%kata T13_SignFlip_Test \n",
    "\n",
    "operation SignFlip (q : Qubit) : Unit {\n",
    "\n",
    "    body (...) {\n",
    "        // ...\n",
    "    }\n",
    "\n",
    "    adjoint self;\n",
    "}"
   ]
  },
  {
   "cell_type": "markdown",
   "metadata": {},
   "source": [
    "### Task 1.4. Amplitude change: |0⟩ to cos(alpha)*|0⟩ + sin(alpha)*|1⟩.\n",
    "\n",
    "**Inputs:**\n",
    "1) A qubit in state β|0⟩ + γ|1⟩.\n",
    "2) Angle alpha, in radians, represented as Double\n",
    "\n",
    "**Goal:**  Change the state of the qubit as follows:\n",
    "- If the qubit is in state |0⟩, change its state to cos(alpha)*|0⟩ + sin(alpha)*|1⟩.\n",
    "- If the qubit is in state |1⟩, change its state to -sin(alpha)*|0⟩ + cos(alpha)*|1⟩.\n",
    "- If the qubit is in superposition, change its state according to the effect on basis vectors.\n"
   ]
  },
  {
   "cell_type": "code",
   "execution_count": null,
   "metadata": {},
   "outputs": [],
   "source": [
    "%kata T14_AmplitudeChange_Test\n",
    "\n",
    "operation AmplitudeChange (q : Qubit, alpha : Double) : Unit {\n",
    "\n",
    "    body (...) {\n",
    "        // ...\n",
    "    }\n",
    "\n",
    "    adjoint invert;\n",
    "}\n"
   ]
  },
  {
   "cell_type": "markdown",
   "metadata": {},
   "source": [
    "### Task 1.5. Phase flip\n",
    "\n",
    "**Input:** A qubit in state |ψ⟩ = α |0⟩ + β |1⟩.\n",
    "\n",
    "**Goal:** Change the qubit state to α |0⟩ + iβ |1⟩ (flip the phase of |1⟩ component of the superposition).\n"
   ]
  },
  {
   "cell_type": "code",
   "execution_count": null,
   "metadata": {},
   "outputs": [],
   "source": [
    "%kata T15_PhaseFlip_Test\n",
    "\n",
    "operation PhaseFlip (q : Qubit) : Unit {\n",
    "    \n",
    "    body (...) {\n",
    "        // ...\n",
    "    }\n",
    "    \n",
    "    adjoint invert;\n",
    "}\n",
    "\n"
   ]
  },
  {
   "cell_type": "markdown",
   "metadata": {},
   "source": [
    "### Task 1.6. Phase change\n",
    "\n",
    "**Inputs:**\n",
    "1) A qubit in state β|0⟩ + γ|1⟩.\n",
    "2) Angle alpha, in radians, represented as Double\n",
    "\n",
    "**Goal:**  Change the state of the qubit as follows:\n",
    "- If the qubit is in state |0⟩, don't change its state.\n",
    "- If the qubit is in state |1⟩, change its state to exp(i*alpha)|1⟩.\n",
    "- If the qubit is in superposition, change its state according to the effect on basis vectors.\n"
   ]
  },
  {
   "cell_type": "code",
   "execution_count": null,
   "metadata": {},
   "outputs": [],
   "source": [
    "%kata T16_PhaseChange_Test\n",
    "\n",
    "operation PhaseChange (q : Qubit, alpha : Double) : Unit {\n",
    "    \n",
    "    body (...) {\n",
    "        // ...\n",
    "    }\n",
    "    \n",
    "    adjoint invert;\n",
    "}\n"
   ]
  },
  {
   "cell_type": "markdown",
   "metadata": {},
   "source": [
    "### Task 1.7. Bell state change - 1\n",
    "\n",
    "**Input:** Two entangled qubits in Bell state |Φ⁺⟩ = (|00⟩ + |11⟩) / sqrt(2).\n",
    "\n",
    "**Goal:**  Change the two-qubit state to |Φ⁻⟩ = (|00⟩ - |11⟩) / sqrt(2).\n"
   ]
  },
  {
   "cell_type": "code",
   "execution_count": null,
   "metadata": {},
   "outputs": [],
   "source": [
    "%kata T17_BellStateChange1_Test\n",
    "\n",
    "operation BellStateChange1 (qs : Qubit[]) : Unit {\n",
    "    \n",
    "    body (...) {\n",
    "        // ...\n",
    "    }\n",
    "    \n",
    "    adjoint invert;\n",
    "}\n"
   ]
  },
  {
   "cell_type": "markdown",
   "metadata": {},
   "source": [
    "### Task 1.8. Bell state change - 2\n",
    "\n",
    "**Input:** Two entangled qubits in Bell state |Φ⁺⟩ = (|00⟩ + |11⟩) / sqrt(2).\n",
    "\n",
    "**Goal:**  Change the two-qubit state to |Ψ⁺⟩ = (|01⟩ + |10⟩) / sqrt(2)."
   ]
  },
  {
   "cell_type": "code",
   "execution_count": null,
   "metadata": {},
   "outputs": [],
   "source": [
    "%kata T18_BellStateChange2_Test\n",
    "\n",
    "operation BellStateChange2 (qs : Qubit[]) : Unit {\n",
    "    \n",
    "    body (...) {\n",
    "        // ...\n",
    "    }\n",
    "    \n",
    "    adjoint invert;\n",
    "}\n"
   ]
  },
  {
   "cell_type": "markdown",
   "metadata": {},
   "source": [
    "### Task 1.9. Bell state change - 3\n",
    "\n",
    "**Input:** Two entangled qubits in Bell state |Φ⁺⟩ = (|00⟩ + |11⟩) / sqrt(2).\n",
    "\n",
    "**Goal:**  Change the two-qubit state to |Ψ⁻⟩ = (|01⟩ - |10⟩) / sqrt(2).\n"
   ]
  },
  {
   "cell_type": "code",
   "execution_count": null,
   "metadata": {},
   "outputs": [],
   "source": [
    "%kata T19_BellStateChange3_Test\n",
    "\n",
    "operation BellStateChange3 (qs : Qubit[]) : Unit {\n",
    "    \n",
    "    body (...) {\n",
    "        // ...\n",
    "    }\n",
    "    \n",
    "    adjoint invert;\n",
    "}\n"
   ]
  },
  {
   "cell_type": "markdown",
   "metadata": {},
   "source": [
    "## Part II. Multi-Qubit Gates\n",
    "\n",
    "### Task 2.1. Two-qubit gate - 1\n",
    "\n",
    "**Input:** \n",
    "\n",
    "Two unentangled qubits (stored in an array of length 2).\n",
    "\n",
    "The first qubit will be in state |ψ⟩ = α |0⟩ + β |1⟩, the second - in state |0⟩\n",
    "(this can be written as two-qubit state (α|0⟩ + β|1⟩) ⊗ |0⟩).\n",
    "\n",
    "\n",
    "**Goal:**  Change the two-qubit state to α |00⟩ + β |11⟩.\n",
    "\n",
    "> Note that unless the starting state of the first qubit was |0⟩ or |1⟩,\n",
    "> the resulting two-qubit state can not be represented as a tensor product\n",
    "> of the states of individual qubits any longer; thus the qubits become entangled.\n"
   ]
  },
  {
   "cell_type": "code",
   "execution_count": null,
   "metadata": {},
   "outputs": [],
   "source": [
    "%kata T21_TwoQubitGate1_Test\n",
    "\n",
    "operation TwoQubitGate1 (qs : Qubit[]) : Unit {\n",
    "    \n",
    "    body (...) {\n",
    "        // ...\n",
    "    }\n",
    "    \n",
    "    adjoint self;\n",
    "}\n"
   ]
  },
  {
   "cell_type": "code",
   "execution_count": null,
   "metadata": {},
   "outputs": [],
   "source": []
  }
 ],
 "metadata": {
  "kernelspec": {
   "display_name": "iqsharp",
   "language": "qsharp",
   "name": "iqsharp"
  },
  "language_info": {
   "file_extension": ".qs",
   "mimetype": "text/x-qsharp",
   "name": "qsharp",
   "version": "0.4"
  }
 },
 "nbformat": 4,
 "nbformat_minor": 2
}
